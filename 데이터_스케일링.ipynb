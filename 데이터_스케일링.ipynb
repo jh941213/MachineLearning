{
  "nbformat": 4,
  "nbformat_minor": 0,
  "metadata": {
    "colab": {
      "provenance": [],
      "authorship_tag": "ABX9TyPFEDoh0LHamE0gdt55F/r4",
      "include_colab_link": true
    },
    "kernelspec": {
      "name": "python3",
      "display_name": "Python 3"
    },
    "language_info": {
      "name": "python"
    }
  },
  "cells": [
    {
      "cell_type": "markdown",
      "metadata": {
        "id": "view-in-github",
        "colab_type": "text"
      },
      "source": [
        "<a href=\"https://colab.research.google.com/github/jh941213/MachineLearning/blob/main/%EB%8D%B0%EC%9D%B4%ED%84%B0_%EC%8A%A4%EC%BC%80%EC%9D%BC%EB%A7%81.ipynb\" target=\"_parent\"><img src=\"https://colab.research.google.com/assets/colab-badge.svg\" alt=\"Open In Colab\"/></a>"
      ]
    },
    {
      "cell_type": "code",
      "execution_count": null,
      "metadata": {
        "id": "P1o03GtT6oeC"
      },
      "outputs": [],
      "source": [
        " #모든 특성을 평균을 0으로 표준편차를 1로 변환\n",
        "from sklearn.preprocessing import StandardScaler\n",
        "#특성 중 가장 작은 값을 0, 가장 큰 값을 1로 변환하여 0~1사이의 값을 만듬\n",
        "from sklearn.preprocessing import MinMaxScaler\n",
        "#중앙 값과 사분위 값을 사용하여 중앙값을 빼고, 사분위 값으로 나눔\n",
        "#이상치의 영향을 최소화 할 수 있음\n",
        "from sklearn.preprocessing import RobustScaler\n"
      ]
    },
    {
      "cell_type": "code",
      "source": [
        "#피쉬데이터 가져오기\n",
        "import pandas as pd\n",
        "\n",
        "fish = pd.read_csv(\"fish.csv\")\n",
        "#데이터 분할\n",
        "bream = fish[fish['class']== 1]\n",
        "smelt = fish[fish['class']== 0]\n"
      ],
      "metadata": {
        "id": "hw9R0YYZ608A"
      },
      "execution_count": null,
      "outputs": []
    },
    {
      "cell_type": "code",
      "source": [
        "import matplotlib.pyplot as plt\n",
        "# 그림 그리기 x축 length y축 weight\n",
        "plt.scatter(bream['length'], bream['weight'])\n",
        "plt.scatter(smelt['length'], smelt['weight'])\n",
        "#길이가 25, 무게가 150 \n",
        "\n",
        "plt.scatter(25, 150, maker = '^') #도미데이터"
      ],
      "metadata": {
        "colab": {
          "base_uri": "https://localhost:8080/",
          "height": 283
        },
        "id": "iqcQg5sW70v8",
        "outputId": "05d80941-2f7c-4378-d706-10e91f972e25"
      },
      "execution_count": null,
      "outputs": [
        {
          "output_type": "execute_result",
          "data": {
            "text/plain": [
              "<matplotlib.collections.PathCollection at 0x7f02f1cdad10>"
            ]
          },
          "metadata": {},
          "execution_count": 5
        },
        {
          "output_type": "display_data",
          "data": {
            "text/plain": [
              "<Figure size 432x288 with 1 Axes>"
            ],
            "image/png": "[encoded data removed]"
          },
          "metadata": {
            "needs_background": "light"
          }
        }
      ]
    },
    {
      "cell_type": "code",
      "source": [
        "#문제집 생성\n",
        "data = fish[['length','weight']].to_numpy()"
      ],
      "metadata": {
        "id": "NKrkoLVw8Gkj"
      },
      "execution_count": null,
      "outputs": []
    },
    {
      "cell_type": "code",
      "source": [
        "#정답지 생성\n",
        "target = fish['class'].to_numpy()\n",
        "target"
      ],
      "metadata": {
        "colab": {
          "base_uri": "https://localhost:8080/"
        },
        "id": "qOpOEVDA807Y",
        "outputId": "336593cb-0dcb-4eed-9fae-eed8db06e822"
      },
      "execution_count": null,
      "outputs": [
        {
          "output_type": "execute_result",
          "data": {
            "text/plain": [
              "array([1, 1, 1, 1, 1, 1, 1, 1, 1, 1, 1, 1, 1, 1, 1, 1, 1, 1, 1, 1, 1, 1,\n",
              "       1, 1, 1, 1, 1, 1, 1, 1, 1, 1, 1, 1, 1, 0, 0, 0, 0, 0, 0, 0, 0, 0,\n",
              "       0, 0, 0, 0, 0])"
            ]
          },
          "metadata": {},
          "execution_count": 7
        }
      ]
    },
    {
      "cell_type": "code",
      "source": [
        "from sklearn.model_selection import train_test_split\n",
        "#훈련데이터의 문제지,시험데이터 문제지 , 훈련데이터 정답지,시험데이터 정답지\n",
        "train_input, test_input, train_target, test_target = train_test_split(data, target)\n"
      ],
      "metadata": {
        "id": "fxyHC4TI_CSn"
      },
      "execution_count": null,
      "outputs": []
    },
    {
      "cell_type": "code",
      "source": [
        "from sklearn.neighbors import KNeighborsClassifier\n",
        "\n",
        "knn = KNeighborsClassifier()\n",
        "knn.fit(train_input,train_target)\n",
        "knn.score(test_input, test_target)"
      ],
      "metadata": {
        "colab": {
          "base_uri": "https://localhost:8080/"
        },
        "id": "_t6s7Z-vA3r6",
        "outputId": "c9ce64ea-6c3b-422e-af3a-37b1dfc906a1"
      },
      "execution_count": null,
      "outputs": [
        {
          "output_type": "execute_result",
          "data": {
            "text/plain": [
              "1.0"
            ]
          },
          "metadata": {},
          "execution_count": 10
        }
      ]
    },
    {
      "cell_type": "code",
      "source": [
        "knn.predict([[25,150]])\n",
        "#도미데이터가 아닌 빙어의 클래스 0 으로 출력함\n",
        "#틀린이유 : 눈으로는 길이데이터가 도미와 가까워 보이나 실은 빙어와 더가까움\n",
        "#그래서 표준화를 해야함"
      ],
      "metadata": {
        "colab": {
          "base_uri": "https://localhost:8080/"
        },
        "id": "Z3sjn13sBB6z",
        "outputId": "0e2603a1-03ab-4aa9-b6f5-f6c85640a4d1"
      },
      "execution_count": null,
      "outputs": [
        {
          "output_type": "execute_result",
          "data": {
            "text/plain": [
              "array([0])"
            ]
          },
          "metadata": {},
          "execution_count": 11
        }
      ]
    },
    {
      "cell_type": "code",
      "source": [
        "import numpy as np\n",
        "#평균\n",
        "mean = np.mean(train_input, axis=0) # axis 행방향\n",
        "mean\n",
        "#표준편차\n",
        "std = np.std(train_input, axis=0) # \n",
        "\n",
        "train_scaled=(train_input - mean) / std\n",
        "test_scaled =(test_input - mean)"
      ],
      "metadata": {
        "id": "AzSaDgawBW7O"
      },
      "execution_count": null,
      "outputs": []
    },
    {
      "cell_type": "code",
      "source": [
        "knn = KNeighborsClassifier()\n",
        "knn.fit(train_scaled, train_target)\n",
        "knn.score(test_scaled, test_target)"
      ],
      "metadata": {
        "id": "Zij1V7W3B0GH",
        "colab": {
          "base_uri": "https://localhost:8080/"
        },
        "outputId": "b6ac12f1-a75d-4f4b-e454-a0a3e3221520"
      },
      "execution_count": null,
      "outputs": [
        {
          "output_type": "execute_result",
          "data": {
            "text/plain": [
              "0.7692307692307693"
            ]
          },
          "metadata": {},
          "execution_count": 16
        }
      ]
    },
    {
      "cell_type": "code",
      "source": [
        "new = ([25,150]- mean) /std\n",
        "new\n"
      ],
      "metadata": {
        "id": "FU7cIMmVCYMm",
        "colab": {
          "base_uri": "https://localhost:8080/"
        },
        "outputId": "46eaa4e2-e9fc-4507-bd53-d6786d8c587a"
      },
      "execution_count": null,
      "outputs": [
        {
          "output_type": "execute_result",
          "data": {
            "text/plain": [
              "array([-0.26515804, -1.015552  ])"
            ]
          },
          "metadata": {},
          "execution_count": 17
        }
      ]
    },
    {
      "cell_type": "code",
      "source": [
        "knn.predict([new])"
      ],
      "metadata": {
        "colab": {
          "base_uri": "https://localhost:8080/"
        },
        "id": "4Zs9_p-5DVEb",
        "outputId": "b7403798-b413-4545-e8f4-c936d06e73de"
      },
      "execution_count": null,
      "outputs": [
        {
          "output_type": "execute_result",
          "data": {
            "text/plain": [
              "array([1])"
            ]
          },
          "metadata": {},
          "execution_count": 18
        }
      ]
    },
    {
      "cell_type": "code",
      "source": [],
      "metadata": {
        "id": "hzReNrhfDXmr"
      },
      "execution_count": null,
      "outputs": []
    }
  ]
}